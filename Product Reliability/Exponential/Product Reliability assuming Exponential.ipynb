{
 "cells": [
  {
   "cell_type": "code",
   "execution_count": 1,
   "id": "0864127a-dc5c-4bc3-9dc1-c0abbc1679c4",
   "metadata": {},
   "outputs": [],
   "source": [
    "import numpy as np\n",
    "import pandas as pd\n",
    "import matplotlib.pyplot as plt\n",
    "import seaborn as sns\n",
    "sns.set()\n",
    "import sklearn\n",
    "import warnings\n",
    "warnings.filterwarnings(\"ignore\")\n",
    "import scipy\n",
    "import sys\n",
    "import time"
   ]
  },
  {
   "cell_type": "code",
   "execution_count": 2,
   "id": "74acec94-eb50-4f0c-822f-e73c29e96a73",
   "metadata": {},
   "outputs": [],
   "source": [
    "Start_Time = time.time()"
   ]
  },
  {
   "cell_type": "markdown",
   "id": "605423d1-37ea-437a-98a9-ba33477f7244",
   "metadata": {},
   "source": [
    "##### Defining parameters"
   ]
  },
  {
   "cell_type": "code",
   "execution_count": 4,
   "id": "9d3b33a4-bfed-43bc-be22-c84d18168b72",
   "metadata": {},
   "outputs": [],
   "source": [
    "No_of_Iteration = 10000\n",
    "No_of_Components = 3\n",
    "Levels = 2\n",
    "Recovery_Cutoff_List = np.array([0.5 + (np.random.randint(1,5)/10) for i in range(No_of_Components)])\n",
    "Lamda_list = np.array([1/400,2/400,1/600,2/600,1/800,2/800])"
   ]
  },
  {
   "cell_type": "code",
   "execution_count": 5,
   "id": "f4e47bc0-5538-4a41-9541-42b5be5ef1b2",
   "metadata": {},
   "outputs": [
    {
     "data": {
      "text/plain": [
       "array([0.9, 0.7, 0.8])"
      ]
     },
     "execution_count": 5,
     "metadata": {},
     "output_type": "execute_result"
    }
   ],
   "source": [
    "Recovery_Cutoff_List"
   ]
  },
  {
   "cell_type": "markdown",
   "id": "84701e8f-9281-4c05-b658-de199b65ede2",
   "metadata": {},
   "source": [
    "##### Random Numbers and Failure Time of the Components"
   ]
  },
  {
   "cell_type": "code",
   "execution_count": null,
   "id": "3c979344-2ca6-4aac-878b-4b2c05562af9",
   "metadata": {},
   "outputs": [],
   "source": [
    "random_table = pd.DataFrame(np.zeros((No_of_Components*Levels,1))).T\n",
    "failure_table = pd.DataFrame(np.zeros((No_of_Components*Levels,1))).T\n",
    "for i in range(No_of_Iteration):\n",
    "    random = pd.Series([np.round(np.random.random(),4)for k in range(No_of_Components*Levels)])\n",
    "    random_table.loc[i] = random\n",
    "    for j in range(No_of_Components*Levels):\n",
    "        failure_table.loc[i,j] = np.round(-1*np.log(random_table.iloc[i,j])/Lamda_list[j],1)"
   ]
  },
  {
   "cell_type": "code",
   "execution_count": null,
   "id": "2a3633cd-6ec4-467c-850f-f642ad73cdb2",
   "metadata": {},
   "outputs": [],
   "source": [
    "random_table.head(2)"
   ]
  },
  {
   "cell_type": "code",
   "execution_count": null,
   "id": "d2f908fe-f528-4286-9696-337669a86899",
   "metadata": {},
   "outputs": [],
   "source": [
    "failure_table.head(2)"
   ]
  },
  {
   "cell_type": "markdown",
   "id": "8cce4011-6272-43cd-aa33-1e5526c603e1",
   "metadata": {},
   "source": [
    "##### Random Numbers to pick the New or Remanufacturing one."
   ]
  },
  {
   "cell_type": "code",
   "execution_count": null,
   "id": "dcf048e6-94b3-4983-829a-d0bf2419710d",
   "metadata": {},
   "outputs": [],
   "source": [
    "Pick_Table = pd.DataFrame(np.zeros((No_of_Components,1))).T\n",
    "for i in range(No_of_Iteration):\n",
    "    random = ([np.round(np.random.random(),1)for k in range(No_of_Components)])\n",
    "    Pick_Table.loc[i] = random\n",
    "Pick_Table.head(2)"
   ]
  },
  {
   "cell_type": "markdown",
   "id": "9cd45e39-97e2-4c5d-926e-165ac56b5292",
   "metadata": {},
   "source": [
    "##### Choosing the Right Level based on generated random number and cutoff for each component"
   ]
  },
  {
   "cell_type": "code",
   "execution_count": null,
   "id": "452655b4-8ed8-4e6f-a312-8b75a13c9013",
   "metadata": {
    "scrolled": true
   },
   "outputs": [],
   "source": [
    "failure_data_table_after_pickup = pd.DataFrame(np.zeros((No_of_Components,1))).T\n",
    "for i in range(No_of_Iteration):\n",
    "    for j in range(No_of_Components):\n",
    "        if Pick_Table.iloc[i,j] >= Recovery_Cutoff_List[j]:\n",
    "            failure_data_table_after_pickup.loc[i,j] = failure_table.iloc[i,2*j]\n",
    "        else:\n",
    "            failure_data_table_after_pickup.loc[i,j] = failure_table.iloc[i,2*j+1]\n",
    "failure_data_table_after_pickup.head(2)"
   ]
  },
  {
   "cell_type": "markdown",
   "id": "b4c7c0d9-523d-47a0-8c34-cfa76f69c7c3",
   "metadata": {},
   "source": [
    "##### Product Reliability Assuming All Components are in Series"
   ]
  },
  {
   "cell_type": "code",
   "execution_count": null,
   "id": "420f90e5-8c2f-45bd-8a20-575119bf6d9a",
   "metadata": {},
   "outputs": [],
   "source": [
    "data = pd.DataFrame()\n",
    "for i in range(No_of_Components):\n",
    "    data['failure_time_of_component'+str(i+1)] = failure_data_table_after_pickup.iloc[:,i]\n",
    "system_failure_time = pd.Series([min(data.iloc[j,:]) for j in range(No_of_Iteration)])\n",
    "data['system_failure_time'] = system_failure_time\n",
    "for i in range(No_of_Components):\n",
    "    data['recovery_cutoff_for_component'+str(i+1)] = Recovery_Cutoff_List[i]"
   ]
  },
  {
   "cell_type": "code",
   "execution_count": null,
   "id": "7180a62b-7504-493d-a25a-b79e7afc33f7",
   "metadata": {
    "scrolled": true
   },
   "outputs": [],
   "source": [
    "data.head(2)"
   ]
  },
  {
   "cell_type": "code",
   "execution_count": null,
   "id": "b33bb2fb-f152-4323-9e65-2003fed9f208",
   "metadata": {},
   "outputs": [],
   "source": [
    "file_name = str(No_of_Components)+'_components_series_system_failure_data_assuming_expo_dist_with_cutoff_'+str(Recovery_Cutoff_List)+'.csv'\n",
    "data.to_csv(file_name)"
   ]
  },
  {
   "cell_type": "code",
   "execution_count": null,
   "id": "dd387faa-8098-4e63-9e4f-33d95de324c2",
   "metadata": {},
   "outputs": [],
   "source": [
    "End_time = time.time()\n",
    "print(np.round(End_time-Start_Time,2))"
   ]
  }
 ],
 "metadata": {
  "kernelspec": {
   "display_name": "Python 3 (ipykernel)",
   "language": "python",
   "name": "python3"
  },
  "language_info": {
   "codemirror_mode": {
    "name": "ipython",
    "version": 3
   },
   "file_extension": ".py",
   "mimetype": "text/x-python",
   "name": "python",
   "nbconvert_exporter": "python",
   "pygments_lexer": "ipython3",
   "version": "3.12.4"
  }
 },
 "nbformat": 4,
 "nbformat_minor": 5
}
