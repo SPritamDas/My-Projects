{
 "cells": [
  {
   "cell_type": "code",
   "execution_count": 1,
   "id": "47ef18cd-dfb8-46e0-889f-514939c900e8",
   "metadata": {},
   "outputs": [],
   "source": [
    "import numpy as np\n",
    "import pandas as pd\n",
    "import matplotlib.pyplot as plt\n",
    "import seaborn as sns\n",
    "import warnings\n",
    "warnings.filterwarnings(\"ignore\")\n",
    "sns.set\n",
    "import time"
   ]
  },
  {
   "cell_type": "code",
   "execution_count": 2,
   "id": "f6246762-b759-45c6-967c-a2331c54e735",
   "metadata": {},
   "outputs": [],
   "source": [
    "Start_time = time.time()"
   ]
  },
  {
   "cell_type": "markdown",
   "id": "e6a87b49-0c19-4fe4-bfc1-bfb9d156cf5a",
   "metadata": {},
   "source": [
    "#### Defining Maximum number of Levels and No. of Simulations"
   ]
  },
  {
   "cell_type": "code",
   "execution_count": 4,
   "id": "d771e62b-84f2-455b-88a4-4ab5ab430cd7",
   "metadata": {},
   "outputs": [],
   "source": [
    "no_of_level = 5\n",
    "no_of_iteration = 10000"
   ]
  },
  {
   "cell_type": "markdown",
   "id": "0bf02951-4d9e-4d52-9eff-54b3eed4576d",
   "metadata": {},
   "source": [
    "#### Defining Rate Parameter(Lamda) Value for each Level in each iteration"
   ]
  },
  {
   "cell_type": "code",
   "execution_count": 6,
   "id": "e60d2342-63a8-4b15-8e49-236bc8ed8c07",
   "metadata": {},
   "outputs": [],
   "source": [
    "lamda_new = 1/500\n",
    "lamda_rem_1 = 2*lamda_new\n",
    "lamda_rem_2 = 4*lamda_new\n",
    "lamda_rem_3 = 8*lamda_new\n",
    "lamda_rem_4 = 16*lamda_new"
   ]
  },
  {
   "cell_type": "code",
   "execution_count": 7,
   "id": "1edba7a3-903c-4d22-b3e8-459be5413aef",
   "metadata": {
    "scrolled": true
   },
   "outputs": [],
   "source": [
    "#### Based on Failure data of the cooling sysetm in DieselEngine (Dhananjay R Dolas) MTTF is taken between [400,3000)\n",
    "# lamda_Table = pd.DataFrame([])\n",
    "# for i in range(no_of_iteration):\n",
    "#     a = np.round(1/500,3)\n",
    "#     lamda_Row = np.array([a])\n",
    "#     for j in range(no_of_level-1):\n",
    "#         lamda_Row = pd.Series(np.append(lamda_Row,2*a))\n",
    "#     lamda_Table[i] = lamda_Row\n",
    "# lamda_Table = lamda_Table.T\n",
    "# lamda_Table.head(3)"
   ]
  },
  {
   "cell_type": "code",
   "execution_count": 8,
   "id": "bd62c381-7bff-47e3-bf65-069573be5e54",
   "metadata": {},
   "outputs": [
    {
     "data": {
      "text/html": [
       "<div>\n",
       "<style scoped>\n",
       "    .dataframe tbody tr th:only-of-type {\n",
       "        vertical-align: middle;\n",
       "    }\n",
       "\n",
       "    .dataframe tbody tr th {\n",
       "        vertical-align: top;\n",
       "    }\n",
       "\n",
       "    .dataframe thead th {\n",
       "        text-align: right;\n",
       "    }\n",
       "</style>\n",
       "<table border=\"1\" class=\"dataframe\">\n",
       "  <thead>\n",
       "    <tr style=\"text-align: right;\">\n",
       "      <th></th>\n",
       "      <th>0</th>\n",
       "      <th>1</th>\n",
       "      <th>2</th>\n",
       "      <th>3</th>\n",
       "      <th>4</th>\n",
       "    </tr>\n",
       "  </thead>\n",
       "  <tbody>\n",
       "    <tr>\n",
       "      <th>0</th>\n",
       "      <td>0.002</td>\n",
       "      <td>0.002</td>\n",
       "      <td>0.002</td>\n",
       "      <td>0.002</td>\n",
       "      <td>0.002</td>\n",
       "    </tr>\n",
       "    <tr>\n",
       "      <th>1</th>\n",
       "      <td>0.002</td>\n",
       "      <td>0.002</td>\n",
       "      <td>0.002</td>\n",
       "      <td>0.002</td>\n",
       "      <td>0.002</td>\n",
       "    </tr>\n",
       "  </tbody>\n",
       "</table>\n",
       "</div>"
      ],
      "text/plain": [
       "       0      1      2      3      4\n",
       "0  0.002  0.002  0.002  0.002  0.002\n",
       "1  0.002  0.002  0.002  0.002  0.002"
      ]
     },
     "execution_count": 8,
     "metadata": {},
     "output_type": "execute_result"
    }
   ],
   "source": [
    "lamda_Table = pd.DataFrame([np.full(no_of_iteration,lamda_new) for i in range(no_of_level)]).T\n",
    "lamda_Table.head(2)"
   ]
  },
  {
   "cell_type": "markdown",
   "id": "c2c6b9ad-3097-432b-81f2-1fe24c80def4",
   "metadata": {},
   "source": [
    "#### Defining Proportion of Mixture for each Level in each iteration"
   ]
  },
  {
   "cell_type": "code",
   "execution_count": 10,
   "id": "ec89e3c6-fe0b-4c31-b8a0-3954c2e4fd45",
   "metadata": {},
   "outputs": [
    {
     "data": {
      "text/html": [
       "<div>\n",
       "<style scoped>\n",
       "    .dataframe tbody tr th:only-of-type {\n",
       "        vertical-align: middle;\n",
       "    }\n",
       "\n",
       "    .dataframe tbody tr th {\n",
       "        vertical-align: top;\n",
       "    }\n",
       "\n",
       "    .dataframe thead th {\n",
       "        text-align: right;\n",
       "    }\n",
       "</style>\n",
       "<table border=\"1\" class=\"dataframe\">\n",
       "  <thead>\n",
       "    <tr style=\"text-align: right;\">\n",
       "      <th></th>\n",
       "      <th>0</th>\n",
       "      <th>1</th>\n",
       "      <th>2</th>\n",
       "      <th>3</th>\n",
       "      <th>4</th>\n",
       "    </tr>\n",
       "  </thead>\n",
       "  <tbody>\n",
       "    <tr>\n",
       "      <th>0</th>\n",
       "      <td>0.3</td>\n",
       "      <td>0.4</td>\n",
       "      <td>0.2</td>\n",
       "      <td>0.1</td>\n",
       "      <td>0.0</td>\n",
       "    </tr>\n",
       "    <tr>\n",
       "      <th>1</th>\n",
       "      <td>0.2</td>\n",
       "      <td>0.0</td>\n",
       "      <td>0.5</td>\n",
       "      <td>0.1</td>\n",
       "      <td>0.2</td>\n",
       "    </tr>\n",
       "    <tr>\n",
       "      <th>2</th>\n",
       "      <td>0.2</td>\n",
       "      <td>0.2</td>\n",
       "      <td>0.1</td>\n",
       "      <td>0.5</td>\n",
       "      <td>0.1</td>\n",
       "    </tr>\n",
       "  </tbody>\n",
       "</table>\n",
       "</div>"
      ],
      "text/plain": [
       "     0    1    2    3    4\n",
       "0  0.3  0.4  0.2  0.1  0.0\n",
       "1  0.2  0.0  0.5  0.1  0.2\n",
       "2  0.2  0.2  0.1  0.5  0.1"
      ]
     },
     "execution_count": 10,
     "metadata": {},
     "output_type": "execute_result"
    }
   ],
   "source": [
    "proportion_Table = pd.DataFrame([])\n",
    "alpha = np.ones(no_of_level)\n",
    "for i in range(no_of_iteration):\n",
    "    proportion_Row = pd.Series(np.array(np.round(np.random.dirichlet(alpha),1)))\n",
    "    proportion_Table[i] = proportion_Row\n",
    "proportion_Table = proportion_Table.T\n",
    "proportion_Table.head(3)"
   ]
  },
  {
   "cell_type": "markdown",
   "id": "dbcbc157-4d7b-4c08-b1af-3701fd6b8385",
   "metadata": {},
   "source": [
    "#### Genearating Random Numbers for Reliability of each Level"
   ]
  },
  {
   "cell_type": "code",
   "execution_count": 12,
   "id": "e20664f9-90f9-423f-a2ae-76c0a35a249f",
   "metadata": {
    "scrolled": true
   },
   "outputs": [
    {
     "data": {
      "text/html": [
       "<div>\n",
       "<style scoped>\n",
       "    .dataframe tbody tr th:only-of-type {\n",
       "        vertical-align: middle;\n",
       "    }\n",
       "\n",
       "    .dataframe tbody tr th {\n",
       "        vertical-align: top;\n",
       "    }\n",
       "\n",
       "    .dataframe thead th {\n",
       "        text-align: right;\n",
       "    }\n",
       "</style>\n",
       "<table border=\"1\" class=\"dataframe\">\n",
       "  <thead>\n",
       "    <tr style=\"text-align: right;\">\n",
       "      <th></th>\n",
       "      <th>0</th>\n",
       "      <th>1</th>\n",
       "      <th>2</th>\n",
       "      <th>3</th>\n",
       "      <th>4</th>\n",
       "    </tr>\n",
       "  </thead>\n",
       "  <tbody>\n",
       "    <tr>\n",
       "      <th>0</th>\n",
       "      <td>0.6634</td>\n",
       "      <td>0.9330</td>\n",
       "      <td>0.6953</td>\n",
       "      <td>0.5502</td>\n",
       "      <td>0.6060</td>\n",
       "    </tr>\n",
       "    <tr>\n",
       "      <th>1</th>\n",
       "      <td>0.3367</td>\n",
       "      <td>0.4784</td>\n",
       "      <td>0.1061</td>\n",
       "      <td>0.4103</td>\n",
       "      <td>0.7792</td>\n",
       "    </tr>\n",
       "    <tr>\n",
       "      <th>2</th>\n",
       "      <td>0.3026</td>\n",
       "      <td>0.6246</td>\n",
       "      <td>0.0518</td>\n",
       "      <td>0.5595</td>\n",
       "      <td>0.5304</td>\n",
       "    </tr>\n",
       "  </tbody>\n",
       "</table>\n",
       "</div>"
      ],
      "text/plain": [
       "        0       1       2       3       4\n",
       "0  0.6634  0.9330  0.6953  0.5502  0.6060\n",
       "1  0.3367  0.4784  0.1061  0.4103  0.7792\n",
       "2  0.3026  0.6246  0.0518  0.5595  0.5304"
      ]
     },
     "execution_count": 12,
     "metadata": {},
     "output_type": "execute_result"
    }
   ],
   "source": [
    "Random_Table_for_Reliability = pd.DataFrame([])\n",
    "for i in range(no_of_iteration):\n",
    "    Random_Row = np.array([])\n",
    "    for j in range(no_of_level):\n",
    "        Random_Row = pd.Series(np.append(Random_Row,np.round(np.random.rand(),4)))\n",
    "    Random_Table_for_Reliability[i] = Random_Row\n",
    "Random_Table_for_Reliability = Random_Table_for_Reliability.T\n",
    "Random_Table_for_Reliability.head(3)"
   ]
  },
  {
   "cell_type": "code",
   "execution_count": 13,
   "id": "20651864-d920-4077-8c90-123a0d9aae37",
   "metadata": {},
   "outputs": [
    {
     "data": {
      "text/html": [
       "<div>\n",
       "<style scoped>\n",
       "    .dataframe tbody tr th:only-of-type {\n",
       "        vertical-align: middle;\n",
       "    }\n",
       "\n",
       "    .dataframe tbody tr th {\n",
       "        vertical-align: top;\n",
       "    }\n",
       "\n",
       "    .dataframe thead th {\n",
       "        text-align: right;\n",
       "    }\n",
       "</style>\n",
       "<table border=\"1\" class=\"dataframe\">\n",
       "  <thead>\n",
       "    <tr style=\"text-align: right;\">\n",
       "      <th></th>\n",
       "      <th>0</th>\n",
       "      <th>1</th>\n",
       "      <th>2</th>\n",
       "      <th>3</th>\n",
       "      <th>4</th>\n",
       "    </tr>\n",
       "  </thead>\n",
       "  <tbody>\n",
       "    <tr>\n",
       "      <th>0</th>\n",
       "      <td>0.6634</td>\n",
       "      <td>0.9330</td>\n",
       "      <td>0.6953</td>\n",
       "      <td>0.5502</td>\n",
       "      <td>0.6060</td>\n",
       "    </tr>\n",
       "    <tr>\n",
       "      <th>1</th>\n",
       "      <td>0.3367</td>\n",
       "      <td>0.4784</td>\n",
       "      <td>0.1061</td>\n",
       "      <td>0.4103</td>\n",
       "      <td>0.7792</td>\n",
       "    </tr>\n",
       "    <tr>\n",
       "      <th>2</th>\n",
       "      <td>0.3026</td>\n",
       "      <td>0.6246</td>\n",
       "      <td>0.0518</td>\n",
       "      <td>0.5595</td>\n",
       "      <td>0.5304</td>\n",
       "    </tr>\n",
       "  </tbody>\n",
       "</table>\n",
       "</div>"
      ],
      "text/plain": [
       "        0       1       2       3       4\n",
       "0  0.6634  0.9330  0.6953  0.5502  0.6060\n",
       "1  0.3367  0.4784  0.1061  0.4103  0.7792\n",
       "2  0.3026  0.6246  0.0518  0.5595  0.5304"
      ]
     },
     "execution_count": 13,
     "metadata": {},
     "output_type": "execute_result"
    }
   ],
   "source": [
    "Random_Table_for_Reliability.head(3)"
   ]
  },
  {
   "cell_type": "markdown",
   "id": "f312fc3b-3e4b-4253-aee2-76faee81ee4c",
   "metadata": {},
   "source": [
    "#### Calculating Failure Time for each Levels"
   ]
  },
  {
   "cell_type": "code",
   "execution_count": 15,
   "id": "7a602a10-87c2-4ad3-a87c-6be164b12148",
   "metadata": {},
   "outputs": [
    {
     "data": {
      "text/html": [
       "<div>\n",
       "<style scoped>\n",
       "    .dataframe tbody tr th:only-of-type {\n",
       "        vertical-align: middle;\n",
       "    }\n",
       "\n",
       "    .dataframe tbody tr th {\n",
       "        vertical-align: top;\n",
       "    }\n",
       "\n",
       "    .dataframe thead th {\n",
       "        text-align: right;\n",
       "    }\n",
       "</style>\n",
       "<table border=\"1\" class=\"dataframe\">\n",
       "  <thead>\n",
       "    <tr style=\"text-align: right;\">\n",
       "      <th></th>\n",
       "      <th>0</th>\n",
       "      <th>1</th>\n",
       "      <th>2</th>\n",
       "      <th>3</th>\n",
       "      <th>4</th>\n",
       "    </tr>\n",
       "  </thead>\n",
       "  <tbody>\n",
       "    <tr>\n",
       "      <th>0</th>\n",
       "      <td>205.2</td>\n",
       "      <td>34.7</td>\n",
       "      <td>181.7</td>\n",
       "      <td>298.7</td>\n",
       "      <td>250.4</td>\n",
       "    </tr>\n",
       "    <tr>\n",
       "      <th>1</th>\n",
       "      <td>544.3</td>\n",
       "      <td>368.7</td>\n",
       "      <td>1121.7</td>\n",
       "      <td>445.4</td>\n",
       "      <td>124.7</td>\n",
       "    </tr>\n",
       "    <tr>\n",
       "      <th>2</th>\n",
       "      <td>597.7</td>\n",
       "      <td>235.3</td>\n",
       "      <td>1480.2</td>\n",
       "      <td>290.4</td>\n",
       "      <td>317.1</td>\n",
       "    </tr>\n",
       "  </tbody>\n",
       "</table>\n",
       "</div>"
      ],
      "text/plain": [
       "       0      1       2      3      4\n",
       "0  205.2   34.7   181.7  298.7  250.4\n",
       "1  544.3  368.7  1121.7  445.4  124.7\n",
       "2  597.7  235.3  1480.2  290.4  317.1"
      ]
     },
     "execution_count": 15,
     "metadata": {},
     "output_type": "execute_result"
    }
   ],
   "source": [
    "Failure_Time_Table = np.round((-1 / lamda_Table)*np.log( Random_Table_for_Reliability),1)\n",
    "Failure_Time_Table.head(3)"
   ]
  },
  {
   "cell_type": "markdown",
   "id": "79cc68e3-aa50-4fd1-ab7e-09793706a98f",
   "metadata": {},
   "source": [
    "#### Adding the Lamda,Proportion Columns to the Failure_Time_Table"
   ]
  },
  {
   "cell_type": "code",
   "execution_count": 17,
   "id": "49e2240f-e3ec-46d8-a2d4-8eb9b0e175b3",
   "metadata": {},
   "outputs": [
    {
     "data": {
      "text/html": [
       "<div>\n",
       "<style scoped>\n",
       "    .dataframe tbody tr th:only-of-type {\n",
       "        vertical-align: middle;\n",
       "    }\n",
       "\n",
       "    .dataframe tbody tr th {\n",
       "        vertical-align: top;\n",
       "    }\n",
       "\n",
       "    .dataframe thead th {\n",
       "        text-align: right;\n",
       "    }\n",
       "</style>\n",
       "<table border=\"1\" class=\"dataframe\">\n",
       "  <thead>\n",
       "    <tr style=\"text-align: right;\">\n",
       "      <th></th>\n",
       "      <th>Lamda of Level 1</th>\n",
       "      <th>Failure Time of Level 1</th>\n",
       "      <th>Proportion of Level 1</th>\n",
       "      <th>Lamda of Level 2</th>\n",
       "      <th>Failure Time of Level 2</th>\n",
       "      <th>Proportion of Level 2</th>\n",
       "      <th>Lamda of Level 3</th>\n",
       "      <th>Failure Time of Level 3</th>\n",
       "      <th>Proportion of Level 3</th>\n",
       "      <th>Lamda of Level 4</th>\n",
       "      <th>Failure Time of Level 4</th>\n",
       "      <th>Proportion of Level 4</th>\n",
       "      <th>Lamda of Level 5</th>\n",
       "      <th>Failure Time of Level 5</th>\n",
       "      <th>Proportion of Level 5</th>\n",
       "      <th>Sum of Prportion</th>\n",
       "    </tr>\n",
       "  </thead>\n",
       "  <tbody>\n",
       "    <tr>\n",
       "      <th>0</th>\n",
       "      <td>0.002</td>\n",
       "      <td>205.2</td>\n",
       "      <td>0.3</td>\n",
       "      <td>0.002</td>\n",
       "      <td>34.7</td>\n",
       "      <td>0.4</td>\n",
       "      <td>0.002</td>\n",
       "      <td>181.7</td>\n",
       "      <td>0.2</td>\n",
       "      <td>0.002</td>\n",
       "      <td>298.7</td>\n",
       "      <td>0.1</td>\n",
       "      <td>0.002</td>\n",
       "      <td>250.4</td>\n",
       "      <td>0.0</td>\n",
       "      <td>1.0</td>\n",
       "    </tr>\n",
       "    <tr>\n",
       "      <th>1</th>\n",
       "      <td>0.002</td>\n",
       "      <td>544.3</td>\n",
       "      <td>0.2</td>\n",
       "      <td>0.002</td>\n",
       "      <td>368.7</td>\n",
       "      <td>0.0</td>\n",
       "      <td>0.002</td>\n",
       "      <td>1121.7</td>\n",
       "      <td>0.5</td>\n",
       "      <td>0.002</td>\n",
       "      <td>445.4</td>\n",
       "      <td>0.1</td>\n",
       "      <td>0.002</td>\n",
       "      <td>124.7</td>\n",
       "      <td>0.2</td>\n",
       "      <td>1.0</td>\n",
       "    </tr>\n",
       "    <tr>\n",
       "      <th>2</th>\n",
       "      <td>0.002</td>\n",
       "      <td>597.7</td>\n",
       "      <td>0.2</td>\n",
       "      <td>0.002</td>\n",
       "      <td>235.3</td>\n",
       "      <td>0.2</td>\n",
       "      <td>0.002</td>\n",
       "      <td>1480.2</td>\n",
       "      <td>0.1</td>\n",
       "      <td>0.002</td>\n",
       "      <td>290.4</td>\n",
       "      <td>0.5</td>\n",
       "      <td>0.002</td>\n",
       "      <td>317.1</td>\n",
       "      <td>0.1</td>\n",
       "      <td>1.1</td>\n",
       "    </tr>\n",
       "  </tbody>\n",
       "</table>\n",
       "</div>"
      ],
      "text/plain": [
       "   Lamda of Level 1  Failure Time of Level 1  Proportion of Level 1  \\\n",
       "0             0.002                    205.2                    0.3   \n",
       "1             0.002                    544.3                    0.2   \n",
       "2             0.002                    597.7                    0.2   \n",
       "\n",
       "   Lamda of Level 2  Failure Time of Level 2  Proportion of Level 2  \\\n",
       "0             0.002                     34.7                    0.4   \n",
       "1             0.002                    368.7                    0.0   \n",
       "2             0.002                    235.3                    0.2   \n",
       "\n",
       "   Lamda of Level 3  Failure Time of Level 3  Proportion of Level 3  \\\n",
       "0             0.002                    181.7                    0.2   \n",
       "1             0.002                   1121.7                    0.5   \n",
       "2             0.002                   1480.2                    0.1   \n",
       "\n",
       "   Lamda of Level 4  Failure Time of Level 4  Proportion of Level 4  \\\n",
       "0             0.002                    298.7                    0.1   \n",
       "1             0.002                    445.4                    0.1   \n",
       "2             0.002                    290.4                    0.5   \n",
       "\n",
       "   Lamda of Level 5  Failure Time of Level 5  Proportion of Level 5  \\\n",
       "0             0.002                    250.4                    0.0   \n",
       "1             0.002                    124.7                    0.2   \n",
       "2             0.002                    317.1                    0.1   \n",
       "\n",
       "   Sum of Prportion  \n",
       "0               1.0  \n",
       "1               1.0  \n",
       "2               1.1  "
      ]
     },
     "execution_count": 17,
     "metadata": {},
     "output_type": "execute_result"
    }
   ],
   "source": [
    "Failure_Time_of_Mixture = pd.DataFrame([])\n",
    "for i in range(no_of_level):\n",
    "    Failure_Time_of_Mixture[\"Lamda of Level \"+str(i+1)] = lamda_Table.iloc[:,i]\n",
    "    Failure_Time_of_Mixture[\"Failure Time of Level \"+str(i+1)] = Failure_Time_Table.iloc[:,i]\n",
    "    Failure_Time_of_Mixture[\"Proportion of Level \"+str(i+1)] = proportion_Table.iloc[:,i]\n",
    "\n",
    "Sum_Series = np.array([])\n",
    "for i in range(no_of_iteration):\n",
    "    Sum_of_Proprtion = 0\n",
    "    for j in range(no_of_level):\n",
    "        Sum_of_Proprtion = Failure_Time_of_Mixture.loc[i,\"Proportion of Level \"+str(j+1)] + Sum_of_Proprtion \n",
    "    Sum_Series = np.append(Sum_Series,Sum_of_Proprtion) \n",
    "    \n",
    "Failure_Time_of_Mixture[\"Sum of Prportion\"] = pd.Series(Sum_Series)\n",
    "Failure_Time_of_Mixture.head(3)"
   ]
  },
  {
   "cell_type": "markdown",
   "id": "5b70ca8f-e3ed-43b7-b38d-5f97b0a627da",
   "metadata": {},
   "source": [
    "#### Calculating Mixture Failure Time"
   ]
  },
  {
   "cell_type": "code",
   "execution_count": 19,
   "id": "23f1d5b2-7445-4daf-acba-245ba513a077",
   "metadata": {},
   "outputs": [
    {
     "data": {
      "text/html": [
       "<div>\n",
       "<style scoped>\n",
       "    .dataframe tbody tr th:only-of-type {\n",
       "        vertical-align: middle;\n",
       "    }\n",
       "\n",
       "    .dataframe tbody tr th {\n",
       "        vertical-align: top;\n",
       "    }\n",
       "\n",
       "    .dataframe thead th {\n",
       "        text-align: right;\n",
       "    }\n",
       "</style>\n",
       "<table border=\"1\" class=\"dataframe\">\n",
       "  <thead>\n",
       "    <tr style=\"text-align: right;\">\n",
       "      <th></th>\n",
       "      <th>Lamda of Level 1</th>\n",
       "      <th>Failure Time of Level 1</th>\n",
       "      <th>Proportion of Level 1</th>\n",
       "      <th>Lamda of Level 2</th>\n",
       "      <th>Failure Time of Level 2</th>\n",
       "      <th>Proportion of Level 2</th>\n",
       "      <th>Lamda of Level 3</th>\n",
       "      <th>Failure Time of Level 3</th>\n",
       "      <th>Proportion of Level 3</th>\n",
       "      <th>Lamda of Level 4</th>\n",
       "      <th>Failure Time of Level 4</th>\n",
       "      <th>Proportion of Level 4</th>\n",
       "      <th>Lamda of Level 5</th>\n",
       "      <th>Failure Time of Level 5</th>\n",
       "      <th>Proportion of Level 5</th>\n",
       "      <th>Sum of Prportion</th>\n",
       "      <th>Mixture Failure Time</th>\n",
       "      <th>Lamda</th>\n",
       "    </tr>\n",
       "  </thead>\n",
       "  <tbody>\n",
       "    <tr>\n",
       "      <th>0</th>\n",
       "      <td>0.002</td>\n",
       "      <td>205.2</td>\n",
       "      <td>0.3</td>\n",
       "      <td>0.002</td>\n",
       "      <td>34.7</td>\n",
       "      <td>0.4</td>\n",
       "      <td>0.002</td>\n",
       "      <td>181.7</td>\n",
       "      <td>0.2</td>\n",
       "      <td>0.002</td>\n",
       "      <td>298.7</td>\n",
       "      <td>0.1</td>\n",
       "      <td>0.002</td>\n",
       "      <td>250.4</td>\n",
       "      <td>0.0</td>\n",
       "      <td>1.0</td>\n",
       "      <td>141.6</td>\n",
       "      <td>0.002</td>\n",
       "    </tr>\n",
       "    <tr>\n",
       "      <th>1</th>\n",
       "      <td>0.002</td>\n",
       "      <td>544.3</td>\n",
       "      <td>0.2</td>\n",
       "      <td>0.002</td>\n",
       "      <td>368.7</td>\n",
       "      <td>0.0</td>\n",
       "      <td>0.002</td>\n",
       "      <td>1121.7</td>\n",
       "      <td>0.5</td>\n",
       "      <td>0.002</td>\n",
       "      <td>445.4</td>\n",
       "      <td>0.1</td>\n",
       "      <td>0.002</td>\n",
       "      <td>124.7</td>\n",
       "      <td>0.2</td>\n",
       "      <td>1.0</td>\n",
       "      <td>739.2</td>\n",
       "      <td>0.002</td>\n",
       "    </tr>\n",
       "    <tr>\n",
       "      <th>2</th>\n",
       "      <td>0.002</td>\n",
       "      <td>597.7</td>\n",
       "      <td>0.2</td>\n",
       "      <td>0.002</td>\n",
       "      <td>235.3</td>\n",
       "      <td>0.2</td>\n",
       "      <td>0.002</td>\n",
       "      <td>1480.2</td>\n",
       "      <td>0.1</td>\n",
       "      <td>0.002</td>\n",
       "      <td>290.4</td>\n",
       "      <td>0.5</td>\n",
       "      <td>0.002</td>\n",
       "      <td>317.1</td>\n",
       "      <td>0.1</td>\n",
       "      <td>1.1</td>\n",
       "      <td>491.5</td>\n",
       "      <td>0.002</td>\n",
       "    </tr>\n",
       "  </tbody>\n",
       "</table>\n",
       "</div>"
      ],
      "text/plain": [
       "   Lamda of Level 1  Failure Time of Level 1  Proportion of Level 1  \\\n",
       "0             0.002                    205.2                    0.3   \n",
       "1             0.002                    544.3                    0.2   \n",
       "2             0.002                    597.7                    0.2   \n",
       "\n",
       "   Lamda of Level 2  Failure Time of Level 2  Proportion of Level 2  \\\n",
       "0             0.002                     34.7                    0.4   \n",
       "1             0.002                    368.7                    0.0   \n",
       "2             0.002                    235.3                    0.2   \n",
       "\n",
       "   Lamda of Level 3  Failure Time of Level 3  Proportion of Level 3  \\\n",
       "0             0.002                    181.7                    0.2   \n",
       "1             0.002                   1121.7                    0.5   \n",
       "2             0.002                   1480.2                    0.1   \n",
       "\n",
       "   Lamda of Level 4  Failure Time of Level 4  Proportion of Level 4  \\\n",
       "0             0.002                    298.7                    0.1   \n",
       "1             0.002                    445.4                    0.1   \n",
       "2             0.002                    290.4                    0.5   \n",
       "\n",
       "   Lamda of Level 5  Failure Time of Level 5  Proportion of Level 5  \\\n",
       "0             0.002                    250.4                    0.0   \n",
       "1             0.002                    124.7                    0.2   \n",
       "2             0.002                    317.1                    0.1   \n",
       "\n",
       "   Sum of Prportion  Mixture Failure Time  Lamda  \n",
       "0               1.0                 141.6  0.002  \n",
       "1               1.0                 739.2  0.002  \n",
       "2               1.1                 491.5  0.002  "
      ]
     },
     "execution_count": 19,
     "metadata": {},
     "output_type": "execute_result"
    }
   ],
   "source": [
    "Mixture_Failure_Time_Series = np.array([])\n",
    "for i in range(no_of_iteration):\n",
    "    Mixture_Failure_Time_Value = np.round((Failure_Time_Table*proportion_Table).iloc[i,:].sum(),1)\n",
    "    Mixture_Failure_Time_Series= pd.Series(np.append(Mixture_Failure_Time_Series,Mixture_Failure_Time_Value))\n",
    "Failure_Time_of_Mixture[\"Mixture Failure Time\"] = Mixture_Failure_Time_Series\n",
    "Failure_Time_of_Mixture[\"Lamda\"] = lamda_new\n",
    "(Failure_Time_of_Mixture).head(3)"
   ]
  },
  {
   "cell_type": "markdown",
   "id": "a14763b2-e0b3-40bc-bed5-2d5303af23b8",
   "metadata": {},
   "source": [
    "#### Exporting the Data"
   ]
  },
  {
   "cell_type": "code",
   "execution_count": 21,
   "id": "02458b23-12e5-4ba3-bdcf-98ff66de0d8b",
   "metadata": {},
   "outputs": [],
   "source": [
    "name_of_csv_file = str(no_of_level) + '_Levels Component having lamda:'+str(lamda_new)+'for new one (3).csv'\n",
    "Failure_Time_of_Mixture.to_csv(name_of_csv_file )"
   ]
  },
  {
   "cell_type": "markdown",
   "id": "5ee4ed28-e115-4fcf-b0d9-5674ec247d97",
   "metadata": {},
   "source": [
    "##### Total Run time "
   ]
  },
  {
   "cell_type": "code",
   "execution_count": 23,
   "id": "40e7c142-d695-400f-96dc-453ee7e94b8c",
   "metadata": {},
   "outputs": [
    {
     "name": "stdout",
     "output_type": "stream",
     "text": [
      "Time_Taken 18.185\n"
     ]
    }
   ],
   "source": [
    "End_time = time.time()\n",
    "print(\"Time_Taken\",np.round(End_time-Start_time,3))"
   ]
  },
  {
   "cell_type": "code",
   "execution_count": null,
   "id": "75605ccf-46fb-4d40-a3c4-1c7fc5369098",
   "metadata": {},
   "outputs": [],
   "source": []
  }
 ],
 "metadata": {
  "kernelspec": {
   "display_name": "Python 3 (ipykernel)",
   "language": "python",
   "name": "python3"
  },
  "language_info": {
   "codemirror_mode": {
    "name": "ipython",
    "version": 3
   },
   "file_extension": ".py",
   "mimetype": "text/x-python",
   "name": "python",
   "nbconvert_exporter": "python",
   "pygments_lexer": "ipython3",
   "version": "3.12.4"
  }
 },
 "nbformat": 4,
 "nbformat_minor": 5
}
